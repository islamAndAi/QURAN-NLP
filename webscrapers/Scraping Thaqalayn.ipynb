{
 "cells": [
  {
   "cell_type": "markdown",
   "metadata": {},
   "source": [
    "# Gathering Data from https://www.altafsir.com/"
   ]
  },
  {
   "cell_type": "code",
   "execution_count": 64,
   "metadata": {},
   "outputs": [],
   "source": [
    "import pandas as pd\n",
    "from selenium import webdriver\n",
    "import time\n",
    "from selenium import webdriver\n",
    "from selenium.webdriver.chrome.options import Options\n",
    "import re\n",
    "from unidecode import unidecode\n"
   ]
  },
  {
   "cell_type": "code",
   "execution_count": 65,
   "metadata": {},
   "outputs": [],
   "source": [
    "\n",
    "def convert_to_english(name):\n",
    "    # Remove diacritics and non-alphabetic characters\n",
    "    name = unidecode(name)\n",
    "    name = re.sub(r'[^a-zA-Z\\s]+', '', name)\n",
    "    return name"
   ]
  },
  {
   "cell_type": "code",
   "execution_count": 66,
   "metadata": {},
   "outputs": [],
   "source": [
    "service = webdriver.ChromeService(executable_path = './chromedriver-mac-arm64/chromedriver')\n",
    "driver = webdriver.Chrome(service=service)"
   ]
  },
  {
   "cell_type": "code",
   "execution_count": 67,
   "metadata": {},
   "outputs": [],
   "source": [
    "url = 'https://thaqalayn.net/'\n",
    "driver.get(url)"
   ]
  },
  {
   "cell_type": "code",
   "execution_count": 68,
   "metadata": {},
   "outputs": [],
   "source": [
    "chrome_options = Options()\n",
    "prefs = {\n",
    "    \"profile.default_content_settings\": {\"automatic_downloads\": 1},\n",
    "    \"profile.managed_default_content_settings\": {\"images\": 2}\n",
    "}\n",
    "chrome_options.add_experimental_option(\"prefs\", prefs)"
   ]
  },
  {
   "cell_type": "markdown",
   "metadata": {},
   "source": [
    "# Go to the end with loop now if you want to run it all"
   ]
  },
  {
   "cell_type": "code",
   "execution_count": null,
   "metadata": {},
   "outputs": [],
   "source": []
  },
  {
   "cell_type": "code",
   "execution_count": 69,
   "metadata": {},
   "outputs": [
    {
     "name": "stdout",
     "output_type": "stream",
     "text": [
      "Data Found on URL\n"
     ]
    }
   ],
   "source": [
    "url = \"https://thaqalayn.net/book/\" + \"7\"\n",
    "driver.get(url)\n",
    "try:\n",
    "    if \"404\" in driver.find_element(By.CLASS_NAME, \"next-error-h1\").text:\n",
    "        print(\"Data Not Found\")\n",
    "except:\n",
    "    print(\"Data Found on URL\")\n"
   ]
  },
  {
   "cell_type": "code",
   "execution_count": 70,
   "metadata": {},
   "outputs": [
    {
     "data": {
      "text/plain": [
       "'Al-Kāfi'"
      ]
     },
     "execution_count": 70,
     "metadata": {},
     "output_type": "execute_result"
    }
   ],
   "source": [
    "title = driver.find_element(By.TAG_NAME, \"h1\").text\n",
    "title"
   ]
  },
  {
   "cell_type": "code",
   "execution_count": 71,
   "metadata": {},
   "outputs": [
    {
     "data": {
      "text/plain": [
       "'The Sufficient'"
      ]
     },
     "execution_count": 71,
     "metadata": {},
     "output_type": "execute_result"
    }
   ],
   "source": [
    "title_en = driver.find_element(By.CLASS_NAME, \"text-2xl\").text\n",
    "title_en"
   ]
  },
  {
   "cell_type": "code",
   "execution_count": 72,
   "metadata": {},
   "outputs": [
    {
     "data": {
      "text/plain": [
       "'Volume 7'"
      ]
     },
     "execution_count": 72,
     "metadata": {},
     "output_type": "execute_result"
    }
   ],
   "source": [
    "volume = driver.find_elements(By.CLASS_NAME, \"nextui-button-text\")\n",
    "\n",
    "if len(volume) > 1:\n",
    "    volume = volume[1].text\n",
    "else:\n",
    "    volume = \"\"\n",
    "volume"
   ]
  },
  {
   "cell_type": "code",
   "execution_count": 73,
   "metadata": {},
   "outputs": [
    {
     "data": {
      "text/plain": [
       "'Shaykh Muḥammad b. Yaʿqūb al-Kulaynī'"
      ]
     },
     "execution_count": 73,
     "metadata": {},
     "output_type": "execute_result"
    }
   ],
   "source": [
    "author = driver.find_elements(By.TAG_NAME, \"h4\")[0].text.split(\": \")[-1]\n",
    "author"
   ]
  },
  {
   "cell_type": "code",
   "execution_count": 74,
   "metadata": {},
   "outputs": [
    {
     "data": {
      "text/plain": [
       "'Shaykh Muhammad Sarwar'"
      ]
     },
     "execution_count": 74,
     "metadata": {},
     "output_type": "execute_result"
    }
   ],
   "source": [
    "translator = driver.find_elements(By.TAG_NAME, \"h4\")[1].text.split(\": \")[-1]\n",
    "translator"
   ]
  },
  {
   "cell_type": "code",
   "execution_count": null,
   "metadata": {},
   "outputs": [],
   "source": [
    "description = driver.find_element(By.TAG_NAME, \"h5\").text\n",
    "description"
   ]
  },
  {
   "cell_type": "code",
   "execution_count": 76,
   "metadata": {},
   "outputs": [],
   "source": [
    "books = []\n",
    "for i in driver.find_elements(By.CLASS_NAME, \"m-auto\"):\n",
    "    if \"|\" in i.text:\n",
    "        books.append(i.text)"
   ]
  },
  {
   "cell_type": "code",
   "execution_count": 77,
   "metadata": {},
   "outputs": [
    {
     "data": {
      "text/plain": [
       "7"
      ]
     },
     "execution_count": 77,
     "metadata": {},
     "output_type": "execute_result"
    }
   ],
   "source": [
    "len(books)"
   ]
  },
  {
   "cell_type": "code",
   "execution_count": 78,
   "metadata": {},
   "outputs": [
    {
     "data": {
      "text/plain": [
       "'1 | The Book of Wills'"
      ]
     },
     "execution_count": 78,
     "metadata": {},
     "output_type": "execute_result"
    }
   ],
   "source": [
    "books[0]"
   ]
  },
  {
   "cell_type": "code",
   "execution_count": 79,
   "metadata": {},
   "outputs": [],
   "source": [
    "chapter_list = []\n",
    "for i in driver.find_elements(By.PARTIAL_LINK_TEXT, \"Chapter\"):\n",
    "    text = i.text.split(\"\\n\")\n",
    "    text = text[0] + \" | \" + text[2]\n",
    "    chapter_list.append(text)"
   ]
  },
  {
   "cell_type": "code",
   "execution_count": 80,
   "metadata": {},
   "outputs": [],
   "source": [
    "\n",
    "# Initialize a dictionary to store grouped chapters\n",
    "grouped_chapters = []\n",
    "current_chapter_group = []\n",
    "\n",
    "# Iterate through the list\n",
    "for item in chapter_list:\n",
    "    if item.startswith(\"Chapter 1 \"):\n",
    "        if current_chapter_group:\n",
    "            # If there is a current chapter group, append it to the grouped chapters\n",
    "            grouped_chapters.append(current_chapter_group)\n",
    "            current_chapter_group = []  # Reset current chapter group\n",
    "    current_chapter_group.append(item)\n",
    "\n",
    "# Append the last chapter group if any\n",
    "if current_chapter_group:\n",
    "    grouped_chapters.append(current_chapter_group)\n"
   ]
  },
  {
   "cell_type": "code",
   "execution_count": 81,
   "metadata": {},
   "outputs": [
    {
     "data": {
      "text/plain": [
       "5"
      ]
     },
     "execution_count": 81,
     "metadata": {},
     "output_type": "execute_result"
    }
   ],
   "source": [
    "len(grouped_chapters)"
   ]
  },
  {
   "cell_type": "code",
   "execution_count": null,
   "metadata": {},
   "outputs": [],
   "source": [
    "if len(grouped_chapters) != len(books):\n",
    "    print(\"The last chapter from book '0 | Introduction' is hidden! Manually click it for now\")\n",
    "    time.sleep(5)\n",
    "    chapter_list = []\n",
    "    for i in driver.find_elements(By.PARTIAL_LINK_TEXT, \"Chapter\"):\n",
    "        text = i.text.split(\"\\n\")\n",
    "        text = text[0] + \" | \" + text[2]\n",
    "        chapter_list.append(text)\n",
    "    \n",
    "    # Initialize a dictionary to store grouped chapters\n",
    "    grouped_chapters = []\n",
    "    current_chapter_group = []\n",
    "\n",
    "    # Iterate through the list\n",
    "    for item in chapter_list:\n",
    "        if item.startswith(\"Chapter 1 \"):\n",
    "            if current_chapter_group:\n",
    "                # If there is a current chapter group, append it to the grouped chapters\n",
    "                grouped_chapters.append(current_chapter_group)\n",
    "                current_chapter_group = []  # Reset current chapter group\n",
    "        current_chapter_group.append(item)\n",
    "\n",
    "    # Append the last chapter group if any\n",
    "    if current_chapter_group:\n",
    "        grouped_chapters.append(current_chapter_group)\n",
    "\n",
    "len(grouped_chapters)"
   ]
  },
  {
   "cell_type": "code",
   "execution_count": null,
   "metadata": {},
   "outputs": [],
   "source": [
    "books"
   ]
  },
  {
   "cell_type": "code",
   "execution_count": null,
   "metadata": {},
   "outputs": [],
   "source": [
    "chapter_list"
   ]
  },
  {
   "cell_type": "code",
   "execution_count": null,
   "metadata": {},
   "outputs": [],
   "source": [
    "hadees = []\n",
    "for i in range(len(books)):\n",
    "    pattern = r'^(\\d+)'\n",
    "    match = re.search(pattern, books[i])\n",
    "    book_index = match.group(1)\n",
    "    hadees.append([])\n",
    "    for j in range(len(grouped_chapters[i])):\n",
    "        pattern = r'^Chapter\\s*(\\d+)'\n",
    "        match = re.search(pattern, grouped_chapters[i][j])\n",
    "        chapter_index = match.group(1)\n",
    "\n",
    "        url = \"https://thaqalayn.net/chapter/1/\" + book_index + \"/\" + chapter_index\n",
    "        driver.get(url)\n",
    "        hadees[i].append([])\n",
    "\n",
    "        for k in driver.find_elements(By.CLASS_NAME, \"nextui-c-BDLTQ\"):\n",
    "            text = k.text.split(\"\\n\")\n",
    "            if \"Thaqalayn\" not in text[0]:\n",
    "                text = {\"hadees_number\": text[0], \"hadees_arabic\": text[2], \"hadees_english\": text[3]}\n",
    "                hadees[i][j].append(text)\n",
    "\n",
    "        #print(book_index, chapter_index)"
   ]
  },
  {
   "cell_type": "code",
   "execution_count": null,
   "metadata": {},
   "outputs": [
    {
     "data": {
      "text/plain": [
       "{'number': 'Ḥadīth #1',\n",
       " 'arabic': '1ـ أَخْبَرَنَا أَبُو جَعْفَرٍ مُحَمَّدُ بْنُ يَعْقُوبَ قَالَ حَدَّثَنِي عِدَّةٌ مِنْ أَصْحَابِنَا مِنْهُمْ مُحَمَّدُ بْنُ يَحْيَى الْعَطَّارُ عَنْ أَحْمَدَ بْنِ مُحَمَّدٍ عَنِ الْحَسَنِ بْنِ مَحْبُوبٍ عَنِ الْعَلاءِ بْنِ رَزِينٍ عَنْ مُحَمَّدِ بْنِ مُسْلِمٍ عَنْ ابي جعفر قَالَ لَمَّا خَلَقَ الله الْعَقْلَ اسْتَنْطَقَهُ ثُمَّ قَالَ لَهُ أَقْبِلْ فَأَقْبَلَ ثُمَّ قَالَ لَهُ أَدْبِرْ فَأَدْبَرَ ثُمَّ قَالَ وَعِزَّتِي وَجَلالِي مَا خَلَقْتُ خَلْقاً هُوَ أَحَبُّ إِلَيَّ مِنْكَ وَلا أَكْمَلْتُكَ إِلا فِيمَنْ أُحِبُّ أَمَا إِنِّي إِيَّاكَ آمُرُ وَإِيَّاكَ أَنْهَى وَإِيَّاكَ أُعَاقِبُ وَإِيَّاكَ أُثِيبُ.',\n",
       " 'english': \"1. Abu Ja’far Muhammad b. Ya’qub (al-Kulayni) has said: A number of our people of whom one is Muhammad b. Yahya al-‘Attar narrated from Ahmad b. Muhammad from Hasan b. Mahbub from al-’Ala b. Razin from Muhammad b. Muslim that Abu Ja’far (al-Baqir) has said: “When Allah (swt) created the intellect (al-'Aql) He made it speak and said to it, ‘Come forward', so it came forward. He then said, 'Go back' and it went back. Then Allah said, 'I swear by My Honor and Glory that I have not created any creation more beloved to Me than you. I will not perfect you in anyone except those whom I love. I will command you [to obey me] and prohibit you [from disobeying me] and I will punish you [for disobeying me] and I will reward you [for obeying me].\"}"
      ]
     },
     "execution_count": 273,
     "metadata": {},
     "output_type": "execute_result"
    }
   ],
   "source": [
    "hadees[0][0][0]"
   ]
  },
  {
   "cell_type": "code",
   "execution_count": null,
   "metadata": {},
   "outputs": [],
   "source": [
    "flat_data = []\n",
    "for i in range(len(books)):\n",
    "    book_name = books[i]\n",
    "    for j in range(len(grouped_chapters[i])):\n",
    "        chapter_name = grouped_chapters[i][j]\n",
    "        for k in range(len(hadees[i][j])):\n",
    "            hadees_current = hadees[i][j][k]\n",
    "            flat_data.append({\n",
    "                'title': title,\n",
    "                'title_en': title_en,\n",
    "                'volume': volume,\n",
    "                'author': author,\n",
    "                'translator': translator,\n",
    "                'description': description,\n",
    "                'book': book_name,\n",
    "                'chapter': chapter_name,\n",
    "                'hadees_number': hadees_current['number'],\n",
    "                'hadees_arabic': hadees_current['arabic'],\n",
    "                'hadees_english': hadees_current['english']\n",
    "            })\n"
   ]
  },
  {
   "cell_type": "code",
   "execution_count": null,
   "metadata": {},
   "outputs": [
    {
     "data": {
      "text/html": [
       "<div>\n",
       "<style scoped>\n",
       "    .dataframe tbody tr th:only-of-type {\n",
       "        vertical-align: middle;\n",
       "    }\n",
       "\n",
       "    .dataframe tbody tr th {\n",
       "        vertical-align: top;\n",
       "    }\n",
       "\n",
       "    .dataframe thead th {\n",
       "        text-align: right;\n",
       "    }\n",
       "</style>\n",
       "<table border=\"1\" class=\"dataframe\">\n",
       "  <thead>\n",
       "    <tr style=\"text-align: right;\">\n",
       "      <th></th>\n",
       "      <th>title</th>\n",
       "      <th>category</th>\n",
       "      <th>volume</th>\n",
       "      <th>author</th>\n",
       "      <th>translator</th>\n",
       "      <th>description</th>\n",
       "      <th>book</th>\n",
       "      <th>chapter</th>\n",
       "      <th>hadees_number</th>\n",
       "      <th>hadees_arabic</th>\n",
       "      <th>hadees_english</th>\n",
       "    </tr>\n",
       "  </thead>\n",
       "  <tbody>\n",
       "    <tr>\n",
       "      <th>0</th>\n",
       "      <td>Al-Kāfi</td>\n",
       "      <td>The Sufficient</td>\n",
       "      <td>Volume 1</td>\n",
       "      <td>Shaykh Muḥammad b. Yaʿqūb al-Kulaynī</td>\n",
       "      <td>Shaykh Muhammad Sarwar</td>\n",
       "      <td>al-Kāfī, compiled by Shaykh al-Kulaynī, is a m...</td>\n",
       "      <td>1 | The Book of Intelligence and Ignorance</td>\n",
       "      <td>Chapter 0 | The Book of Intelligence and Ignor...</td>\n",
       "      <td>Ḥadīth #1</td>\n",
       "      <td>1ـ أَخْبَرَنَا أَبُو جَعْفَرٍ مُحَمَّدُ بْنُ ي...</td>\n",
       "      <td>1. Abu Ja’far Muhammad b. Ya’qub (al-Kulayni) ...</td>\n",
       "    </tr>\n",
       "    <tr>\n",
       "      <th>1</th>\n",
       "      <td>Al-Kāfi</td>\n",
       "      <td>The Sufficient</td>\n",
       "      <td>Volume 1</td>\n",
       "      <td>Shaykh Muḥammad b. Yaʿqūb al-Kulaynī</td>\n",
       "      <td>Shaykh Muhammad Sarwar</td>\n",
       "      <td>al-Kāfī, compiled by Shaykh al-Kulaynī, is a m...</td>\n",
       "      <td>1 | The Book of Intelligence and Ignorance</td>\n",
       "      <td>Chapter 0 | The Book of Intelligence and Ignor...</td>\n",
       "      <td>Ḥadīth #2</td>\n",
       "      <td>2ـ عَلِيُّ بْنُ مُحَمَّدٍ عَنْ سَهْلِ بْنِ زِي...</td>\n",
       "      <td>2. Ali bin Muhammad has narrated from Sahl ibn...</td>\n",
       "    </tr>\n",
       "    <tr>\n",
       "      <th>2</th>\n",
       "      <td>Al-Kāfi</td>\n",
       "      <td>The Sufficient</td>\n",
       "      <td>Volume 1</td>\n",
       "      <td>Shaykh Muḥammad b. Yaʿqūb al-Kulaynī</td>\n",
       "      <td>Shaykh Muhammad Sarwar</td>\n",
       "      <td>al-Kāfī, compiled by Shaykh al-Kulaynī, is a m...</td>\n",
       "      <td>1 | The Book of Intelligence and Ignorance</td>\n",
       "      <td>Chapter 0 | The Book of Intelligence and Ignor...</td>\n",
       "      <td>Ḥadīth #3</td>\n",
       "      <td>3ـ أَحْمَدُ بْنُ إِدْرِيسَ عَنْ مُحَمَّدِ بْنِ...</td>\n",
       "      <td>3. Ahmad ibn ’Idris has narrated from Muhammad...</td>\n",
       "    </tr>\n",
       "    <tr>\n",
       "      <th>3</th>\n",
       "      <td>Al-Kāfi</td>\n",
       "      <td>The Sufficient</td>\n",
       "      <td>Volume 1</td>\n",
       "      <td>Shaykh Muḥammad b. Yaʿqūb al-Kulaynī</td>\n",
       "      <td>Shaykh Muhammad Sarwar</td>\n",
       "      <td>al-Kāfī, compiled by Shaykh al-Kulaynī, is a m...</td>\n",
       "      <td>1 | The Book of Intelligence and Ignorance</td>\n",
       "      <td>Chapter 0 | The Book of Intelligence and Ignor...</td>\n",
       "      <td>Ḥadīth #4</td>\n",
       "      <td>4ـ مُحَمَّدُ بْنُ يَحْيَى عَنْ أَحْمَدَ بْنِ م...</td>\n",
       "      <td>4. Muhammad ibn Yahya has narrated from Ahmad ...</td>\n",
       "    </tr>\n",
       "    <tr>\n",
       "      <th>4</th>\n",
       "      <td>Al-Kāfi</td>\n",
       "      <td>The Sufficient</td>\n",
       "      <td>Volume 1</td>\n",
       "      <td>Shaykh Muḥammad b. Yaʿqūb al-Kulaynī</td>\n",
       "      <td>Shaykh Muhammad Sarwar</td>\n",
       "      <td>al-Kāfī, compiled by Shaykh al-Kulaynī, is a m...</td>\n",
       "      <td>1 | The Book of Intelligence and Ignorance</td>\n",
       "      <td>Chapter 0 | The Book of Intelligence and Ignor...</td>\n",
       "      <td>Ḥadīth #5</td>\n",
       "      <td>5ـ وَعَنْهُ عَنْ أَحْمَدَ بْنِ مُحَمَّدٍ عَنِ ...</td>\n",
       "      <td>5. It is narrated from him from Ahmad ibn Muha...</td>\n",
       "    </tr>\n",
       "  </tbody>\n",
       "</table>\n",
       "</div>"
      ],
      "text/plain": [
       "     title        category    volume                                author  \\\n",
       "0  Al-Kāfi  The Sufficient  Volume 1  Shaykh Muḥammad b. Yaʿqūb al-Kulaynī   \n",
       "1  Al-Kāfi  The Sufficient  Volume 1  Shaykh Muḥammad b. Yaʿqūb al-Kulaynī   \n",
       "2  Al-Kāfi  The Sufficient  Volume 1  Shaykh Muḥammad b. Yaʿqūb al-Kulaynī   \n",
       "3  Al-Kāfi  The Sufficient  Volume 1  Shaykh Muḥammad b. Yaʿqūb al-Kulaynī   \n",
       "4  Al-Kāfi  The Sufficient  Volume 1  Shaykh Muḥammad b. Yaʿqūb al-Kulaynī   \n",
       "\n",
       "               translator                                        description  \\\n",
       "0  Shaykh Muhammad Sarwar  al-Kāfī, compiled by Shaykh al-Kulaynī, is a m...   \n",
       "1  Shaykh Muhammad Sarwar  al-Kāfī, compiled by Shaykh al-Kulaynī, is a m...   \n",
       "2  Shaykh Muhammad Sarwar  al-Kāfī, compiled by Shaykh al-Kulaynī, is a m...   \n",
       "3  Shaykh Muhammad Sarwar  al-Kāfī, compiled by Shaykh al-Kulaynī, is a m...   \n",
       "4  Shaykh Muhammad Sarwar  al-Kāfī, compiled by Shaykh al-Kulaynī, is a m...   \n",
       "\n",
       "                                         book  \\\n",
       "0  1 | The Book of Intelligence and Ignorance   \n",
       "1  1 | The Book of Intelligence and Ignorance   \n",
       "2  1 | The Book of Intelligence and Ignorance   \n",
       "3  1 | The Book of Intelligence and Ignorance   \n",
       "4  1 | The Book of Intelligence and Ignorance   \n",
       "\n",
       "                                             chapter hadees_number  \\\n",
       "0  Chapter 0 | The Book of Intelligence and Ignor...     Ḥadīth #1   \n",
       "1  Chapter 0 | The Book of Intelligence and Ignor...     Ḥadīth #2   \n",
       "2  Chapter 0 | The Book of Intelligence and Ignor...     Ḥadīth #3   \n",
       "3  Chapter 0 | The Book of Intelligence and Ignor...     Ḥadīth #4   \n",
       "4  Chapter 0 | The Book of Intelligence and Ignor...     Ḥadīth #5   \n",
       "\n",
       "                                       hadees_arabic  \\\n",
       "0  1ـ أَخْبَرَنَا أَبُو جَعْفَرٍ مُحَمَّدُ بْنُ ي...   \n",
       "1  2ـ عَلِيُّ بْنُ مُحَمَّدٍ عَنْ سَهْلِ بْنِ زِي...   \n",
       "2  3ـ أَحْمَدُ بْنُ إِدْرِيسَ عَنْ مُحَمَّدِ بْنِ...   \n",
       "3  4ـ مُحَمَّدُ بْنُ يَحْيَى عَنْ أَحْمَدَ بْنِ م...   \n",
       "4  5ـ وَعَنْهُ عَنْ أَحْمَدَ بْنِ مُحَمَّدٍ عَنِ ...   \n",
       "\n",
       "                                      hadees_english  \n",
       "0  1. Abu Ja’far Muhammad b. Ya’qub (al-Kulayni) ...  \n",
       "1  2. Ali bin Muhammad has narrated from Sahl ibn...  \n",
       "2  3. Ahmad ibn ’Idris has narrated from Muhammad...  \n",
       "3  4. Muhammad ibn Yahya has narrated from Ahmad ...  \n",
       "4  5. It is narrated from him from Ahmad ibn Muha...  "
      ]
     },
     "execution_count": 278,
     "metadata": {},
     "output_type": "execute_result"
    }
   ],
   "source": [
    "df = pd.DataFrame(flat_data)\n",
    "\n",
    "# Display DataFrame\n",
    "df.head()"
   ]
  },
  {
   "cell_type": "code",
   "execution_count": null,
   "metadata": {},
   "outputs": [],
   "source": [
    "file_name = convert_to_english(title)+\"_\"+convert_to_english(title_en)+\"_\"+volume+\"_\"+convert_to_english(author)+\".csv\"\n",
    "file_name = file_name.replace(\" \",\"\")\n",
    "df.to_csv(file_name, index=False)"
   ]
  },
  {
   "cell_type": "markdown",
   "metadata": {},
   "source": [
    "# NOW WE MAKE A LOOP FOR THE WHOLE WEBSITE!"
   ]
  },
  {
   "cell_type": "code",
   "execution_count": 95,
   "metadata": {},
   "outputs": [
    {
     "name": "stdout",
     "output_type": "stream",
     "text": [
      "Data Found on URL\n",
      "Data Found on URL\n",
      "Data Found on URL\n",
      "Data Found on URL\n",
      "Data Not Found\n",
      "Data Not Found\n",
      "Data Found on URL\n",
      "Data Not Found\n",
      "Data Not Found\n",
      "Data Not Found\n",
      "Data Not Found\n",
      "Data Found on URL\n",
      "Data Found on URL\n",
      "Data Found on URL\n",
      "Data Found on URL\n",
      "Data Found on URL\n",
      "Data Found on URL\n",
      "Data Found on URL\n",
      "Data Found on URL\n",
      "Data Found on URL\n",
      "Data Found on URL\n",
      "Data Found on URL\n",
      "Data Found on URL\n",
      "Data Not Found\n"
     ]
    }
   ],
   "source": [
    "for main_ind in range(11, 35):\n",
    "    driver.get(\"https://thaqalayn.net/book/\" + str(main_ind))\n",
    "    try:\n",
    "        if \"404\" in driver.find_element(By.CLASS_NAME, \"next-error-h1\").text:\n",
    "            print(\"Data Not Found\")\n",
    "            continue\n",
    "    except:\n",
    "        print(\"Data Found on URL\")\n",
    "\n",
    "    title = driver.find_element(By.TAG_NAME, \"h1\").text\n",
    "    title_en = driver.find_element(By.CLASS_NAME, \"text-2xl\").text\n",
    "    volume = driver.find_elements(By.CLASS_NAME, \"nextui-button-text\")\n",
    "    if len(volume) > 1:\n",
    "        volume = volume[1].text\n",
    "    else:\n",
    "        volume = \"\"\n",
    "    author = driver.find_elements(By.TAG_NAME, \"h4\")[0].text.split(\": \")[-1]\n",
    "    translator = driver.find_elements(By.TAG_NAME, \"h4\")[1].text.split(\": \")[-1]\n",
    "\n",
    "    try:\n",
    "        description = driver.find_element(By.TAG_NAME, \"h5\").text\n",
    "    except:\n",
    "        description = \"\"\n",
    "    books = []\n",
    "    for i in driver.find_elements(By.CLASS_NAME, \"m-auto\"):\n",
    "        if \"|\" in i.text or \"Section\" in i.text:\n",
    "            books.append(i.text)\n",
    "\n",
    "    chapter_list = []\n",
    "    for i in driver.find_elements(By.PARTIAL_LINK_TEXT, \"Chapter\"):\n",
    "        text = i.text.split(\"\\n\")\n",
    "        try:\n",
    "            text = text[0] + \" | \" + text[2]\n",
    "            chapter_list.append(text)\n",
    "        except:\n",
    "            pass\n",
    "    grouped_chapters = []\n",
    "    current_chapter_group = []\n",
    "    for item in chapter_list:\n",
    "        if item.startswith(\"Chapter 1 \"):\n",
    "            if current_chapter_group:\n",
    "                grouped_chapters.append(current_chapter_group)\n",
    "                current_chapter_group = []\n",
    "        current_chapter_group.append(item)\n",
    "\n",
    "    if current_chapter_group:\n",
    "        grouped_chapters.append(current_chapter_group)\n",
    "\n",
    "    if len(grouped_chapters) != len(books):\n",
    "        print(\"The last chapter from book '0 | Introduction' is hidden! Manually click it for now\")\n",
    "        time.sleep(5)\n",
    "        chapter_list = []\n",
    "        for i in driver.find_elements(By.PARTIAL_LINK_TEXT, \"Chapter\"):\n",
    "            text = i.text.split(\"\\n\")\n",
    "            print(text)\n",
    "            try:\n",
    "                text = text[0] + \" | \" + text[2]\n",
    "                #if \"Chapter 66 | Another Chapter\" in text: #solving a problem for https://thaqalayn.net/book/7 where book 3&4 are not visible\n",
    "                #    chapter_list.append(\"Chapter 1 | -\")\n",
    "                #    chapter_list.append(\"Chapter 1 | -\")\n",
    "                chapter_list.append(text)\n",
    "            except:\n",
    "                pass\n",
    "        \n",
    "        # Initialize a dictionary to store grouped chapters\n",
    "        grouped_chapters = []\n",
    "        current_chapter_group = []\n",
    "\n",
    "        # Iterate through the list\n",
    "        for item in chapter_list:\n",
    "            if item.startswith(\"Chapter 1 \"):\n",
    "                if current_chapter_group:\n",
    "                    # If there is a current chapter group, append it to the grouped chapters\n",
    "                    grouped_chapters.append(current_chapter_group)\n",
    "                    current_chapter_group = []  # Reset current chapter group\n",
    "            current_chapter_group.append(item)\n",
    "\n",
    "        # Append the last chapter group if any\n",
    "        if current_chapter_group:\n",
    "            grouped_chapters.append(current_chapter_group)\n",
    "\n",
    "    \n",
    "    hadees = []\n",
    "    for i in range(len(books)):\n",
    "        pattern = r'(\\d+)'\n",
    "        match = re.search(pattern, books[i])\n",
    "        book_index = match.group(1)\n",
    "        hadees.append([])\n",
    "        for j in range(len(grouped_chapters[i])):\n",
    "            pattern = r'^Chapter\\s*(\\d+)'\n",
    "            match = re.search(pattern, grouped_chapters[i][j])\n",
    "            chapter_index = match.group(1)\n",
    "\n",
    "            url = \"https://thaqalayn.net/chapter/\" + str(main_ind) + \"/\" + book_index + \"/\" + chapter_index\n",
    "            driver.get(url)\n",
    "            hadees[i].append([])\n",
    "\n",
    "            for k in driver.find_elements(By.CLASS_NAME, \"nextui-c-BDLTQ\"):\n",
    "                text = k.text.split(\"\\n\")\n",
    "                if \"Thaqalayn\" not in text[0]:\n",
    "                    while len(text) < 4:\n",
    "                        text.append(\"\")\n",
    "                    text = {\"hadees_number\": text[0], \"hadees_arabic\": text[2], \"hadees_english\": text[3]}\n",
    "                    hadees[i][j].append(text)\n",
    "\n",
    "    \n",
    "    flat_data = []\n",
    "    for i in range(len(books)):\n",
    "        book_name = books[i]\n",
    "        for j in range(len(grouped_chapters[i])):\n",
    "            chapter_name = grouped_chapters[i][j]\n",
    "            for k in range(len(hadees[i][j])):\n",
    "                hadees_current = hadees[i][j][k]\n",
    "                flat_data.append({\n",
    "                    'title': title,\n",
    "                    'title_en': title_en,\n",
    "                    'volume': volume,\n",
    "                    'author': author,\n",
    "                    'translator': translator,\n",
    "                    'description': description,\n",
    "                    'book': book_name,\n",
    "                    'chapter': chapter_name,\n",
    "                    'hadees_number': hadees_current['hadees_number'],\n",
    "                    'hadees_arabic': hadees_current['hadees_arabic'],\n",
    "                    'hadees_english': hadees_current['hadees_english']\n",
    "                })\n",
    "\n",
    "    \n",
    "    df = pd.DataFrame(flat_data)\n",
    "\n",
    "    file_name = convert_to_english(title)+\"_\"+convert_to_english(title_en)+\"_\"+volume+\"_\"+convert_to_english(author)+\".csv\"\n",
    "    file_name = file_name.replace(\" \",\"\")\n",
    "    df.to_csv(file_name, index=False)\n",
    "\n",
    "    \n",
    "    "
   ]
  },
  {
   "cell_type": "code",
   "execution_count": null,
   "metadata": {},
   "outputs": [],
   "source": []
  },
  {
   "cell_type": "markdown",
   "metadata": {},
   "source": [
    "### Almost took 200 minutes to run this loop!"
   ]
  },
  {
   "cell_type": "markdown",
   "metadata": {},
   "source": []
  }
 ],
 "metadata": {
  "interpreter": {
   "hash": "e700657700ca3726e7d919db0cb1bdb00b1449743532d1443fbe37ca2c1ec67d"
  },
  "kernelspec": {
   "display_name": "Python 3 (ipykernel)",
   "language": "python",
   "name": "python3"
  },
  "language_info": {
   "codemirror_mode": {
    "name": "ipython",
    "version": 3
   },
   "file_extension": ".py",
   "mimetype": "text/x-python",
   "name": "python",
   "nbconvert_exporter": "python",
   "pygments_lexer": "ipython3",
   "version": "3.9.19"
  }
 },
 "nbformat": 4,
 "nbformat_minor": 2
}
