{
 "cells": [
  {
   "cell_type": "markdown",
   "metadata": {},
   "source": [
    "# Gathering Data from https://www.altafsir.com/"
   ]
  },
  {
   "cell_type": "code",
   "execution_count": 1,
   "metadata": {},
   "outputs": [],
   "source": [
    "import pandas as pd\n",
    "import os\n",
    "import selenium\n",
    "from selenium import webdriver\n",
    "import time\n",
    "from PIL import Image\n",
    "import io\n",
    "import requests\n",
    "from webdriver_manager.chrome import ChromeDriverManager\n",
    "from selenium.common.exceptions import ElementClickInterceptedException\n",
    "from selenium.webdriver.common.by import By\n",
    "from selenium.webdriver.support.select import Select"
   ]
  },
  {
   "cell_type": "code",
   "execution_count": 2,
   "metadata": {},
   "outputs": [
    {
     "name": "stderr",
     "output_type": "stream",
     "text": [
      "/var/folders/2x/qhy93fs134s_883czg81ywrm0000gn/T/ipykernel_89072/2409737876.py:2: DeprecationWarning: executable_path has been deprecated, please pass in a Service object\n",
      "  driver = webdriver.Chrome(ChromeDriverManager().install())\n"
     ]
    }
   ],
   "source": [
    "#Install Driver\n",
    "driver = webdriver.Chrome(ChromeDriverManager().install())"
   ]
  },
  {
   "cell_type": "markdown",
   "metadata": {},
   "source": [
    "## Verse Translation"
   ]
  },
  {
   "cell_type": "code",
   "execution_count": 3,
   "metadata": {
    "scrolled": true
   },
   "outputs": [
    {
     "name": "stdout",
     "output_type": "stream",
     "text": [
      "Muhammad Tahir-ul-Qadri\n",
      "Recitations of Ibrahim walk from saheeh international\n",
      "Royal Aal al-Bayt Institute Translation\n",
      "Martin Lings\n",
      "Muhammad Asad\n",
      "Arthur J. Arberry\n",
      "Abdullah Yusuf Ali\n",
      "Marmaduke Pickthall\n"
     ]
    }
   ],
   "source": [
    "for j in (21,17,10,8,7,5,4,3):\n",
    "    work = []\n",
    "    url = 'https://www.altafsir.com/ViewTranslations.asp?Display=yes&SoraNo=1&Ayah=0&toAyah=0&Language=2&LanguageID=2&TranslationBook='+str(j)\n",
    "    driver.get(url)\n",
    "    select = Select(driver.find_element('id','TranslationBook'))\n",
    "    selected_option = select.first_selected_option\n",
    "    print(selected_option.text)\n",
    "    work.append(selected_option.text)\n",
    "    \n",
    "    for i in range(1, 115):\n",
    "        url = 'https://www.altafsir.com/ViewTranslations.asp?Display=yes&SoraNo=' + str(i) + '&Ayah=0&toAyah=0&Language=2&LanguageID=2&TranslationBook='+str(j)\n",
    "        driver.get(url)\n",
    "        \n",
    "        driver.switch_to.frame(driver.find_element(By.TAG_NAME, \"iframe\"))\n",
    "        work.append(driver.find_element(By.TAG_NAME, \"body\").text)\n",
    "        #print(i)\n",
    "    \n",
    "    clean_surah = []\n",
    "    for i in work:\n",
    "        surah = i.split(\"\\n\")\n",
    "        ayats = \"\"\n",
    "        for i in range(len(surah)):\n",
    "            if i == 0:\n",
    "                #print(surah[i])\n",
    "                ayats += surah[i] + \"\\n\"\n",
    "            elif i == 1:\n",
    "                continue\n",
    "            else:\n",
    "                if len(surah[i]) > 0:\n",
    "                    if surah[i][0] == '[':\n",
    "                        continue\n",
    "                    else:\n",
    "                        #print(surah[i])\n",
    "                        ayats += surah[i] + \"\\n\"\n",
    "        ayats = ayats[:-1]\n",
    "        clean_surah.append(ayats.split(\"\\n\"))\n",
    "\n",
    "    surah_s = []\n",
    "    ayat_s = []\n",
    "    name_s = []\n",
    "    translation = []\n",
    "    worker=work[0].replace(\" \", \"_\")\n",
    "\n",
    "    surah_num = 0\n",
    "    for i in clean_surah:\n",
    "        ayat_num = 1\n",
    "        for k in range(1, len(i)):\n",
    "            name_s.append(i[0])\n",
    "            surah_s.append(surah_num)\n",
    "            ayat_s.append(ayat_num)\n",
    "            translation.append(i[k])\n",
    "            #print(worker, name_s, surah_s, ayat_s)\n",
    "            ayat_num += 1\n",
    "        surah_num+=1\n",
    "    df = pd.DataFrame(data=zip(name_s, surah_s, ayat_s, translation), columns=['Name', 'Surah', 'Ayat', 'Verse'])\n",
    "    df.to_csv(worker + \"_translation.csv\", index=False)\n",
    "    \n",
    "    "
   ]
  },
  {
   "cell_type": "code",
   "execution_count": null,
   "metadata": {},
   "outputs": [],
   "source": []
  },
  {
   "cell_type": "code",
   "execution_count": null,
   "metadata": {},
   "outputs": [],
   "source": []
  },
  {
   "cell_type": "markdown",
   "metadata": {},
   "source": [
    "# Tafaseer"
   ]
  },
  {
   "cell_type": "code",
   "execution_count": 4,
   "metadata": {
    "scrolled": true
   },
   "outputs": [
    {
     "name": "stdout",
     "output_type": "stream",
     "text": [
      "Kashani Tafsir\n",
      "Al Qushairi Tafsir\n"
     ]
    }
   ],
   "source": [
    "TAFSEERS = []\n",
    "  \n",
    "# 74, 73, 107, 108 completed\n",
    "for k in (107, 108):\n",
    "    url = 'https://www.altafsir.com/Tafasir.asp?tMadhNo=0&tTafsirNo=' + str(k) + '&tSoraNo=1&tAyahNo=1&tDisplay=yes&UserProfile=0&LanguageId=2'\n",
    "    driver.get(url)    \n",
    "    worker = []\n",
    "    select = Select(driver.find_element('id','Tafsir'))\n",
    "    selected_option = select.first_selected_option\n",
    "    print(selected_option.text)\n",
    "    worker.append(selected_option.text)\n",
    "    \n",
    "    for i in range(1, 115):\n",
    "        url = 'https://www.altafsir.com/Tafasir.asp?tMadhNo=0&tTafsirNo=' + str(k) + '&tSoraNo='+str(i)+'&tAyahNo=1&tDisplay=yes&UserProfile=0&LanguageId=2'\n",
    "        driver.get(url)\n",
    "        select = Select(driver.find_element('id','Ayat'))\n",
    "        ayats = len(select.options)\n",
    "        #print(\"Ayats\", ayats)\n",
    "        for j in range(1, ayats + 1):\n",
    "            url = 'https://www.altafsir.com/Tafasir.asp?tMadhNo=0&tTafsirNo=' + str(k) + '&tSoraNo='+str(i)+'&tAyahNo='+str(j)+'&tDisplay=yes&UserProfile=0&LanguageId=2'\n",
    "            driver.get(url)\n",
    "            try:\n",
    "                worker.append(driver.find_element(By.CLASS_NAME, \"TextAyah\").text)\n",
    "                worker.append(driver.find_element(By.CLASS_NAME, 'TextResultEnglish').text)\n",
    "            except:\n",
    "                worker.append(\"\")\n",
    "                worker.append(\"\")\n",
    "            \n",
    "        #print(i)\n",
    "    \n",
    "    # ONLY FOR 1 Worker\n",
    "    worker_name = worker[0].replace(\" \", \"_\")\n",
    "    arabic = []\n",
    "    tafsir = []\n",
    "    for i in range(1, len(worker)):\n",
    "        if i%2==0:\n",
    "            tafsir.append(worker[i])\n",
    "        else:\n",
    "            arabic.append(worker[i].replace(\"{\",\"\").replace(\"}\", \"\").strip())\n",
    "    #print(worker)\n",
    "    df = pd.DataFrame(data=zip(arabic, tafsir), columns=['Arabic', 'Tafseer'])\n",
    "    df.head()\n",
    "    df.to_csv(worker_name + \"_tafseer.csv\", index=False)"
   ]
  },
  {
   "cell_type": "markdown",
   "metadata": {},
   "source": [
    "# Took 4 hours to run per Worker"
   ]
  },
  {
   "cell_type": "code",
   "execution_count": null,
   "metadata": {},
   "outputs": [],
   "source": []
  },
  {
   "cell_type": "code",
   "execution_count": null,
   "metadata": {},
   "outputs": [],
   "source": []
  },
  {
   "cell_type": "code",
   "execution_count": 1,
   "metadata": {},
   "outputs": [],
   "source": [
    "# Scraping arabic names"
   ]
  },
  {
   "cell_type": "code",
   "execution_count": 33,
   "metadata": {},
   "outputs": [],
   "source": [
    "import re\n",
    "from bs4 import BeautifulSoup\n",
    "import requests\n",
    "import pandas as pd"
   ]
  },
  {
   "cell_type": "code",
   "execution_count": 10,
   "metadata": {},
   "outputs": [],
   "source": [
    "# Scrap Names of Surah from Wikipedia\n",
    "wikipedia_link = 'https://en.wikipedia.org/wiki/List_of_chapters_in_the_Quran'"
   ]
  },
  {
   "cell_type": "code",
   "execution_count": 11,
   "metadata": {},
   "outputs": [],
   "source": [
    "req =  requests.get(wikipedia_link)\n",
    "soup =  BeautifulSoup(req.content, 'html')\n",
    "surah_rows = soup.find('table', class_= 'sortable' ).find('tbody').find_all('tr')[1:]"
   ]
  },
  {
   "cell_type": "code",
   "execution_count": null,
   "metadata": {},
   "outputs": [],
   "source": []
  },
  {
   "cell_type": "code",
   "execution_count": null,
   "metadata": {},
   "outputs": [],
   "source": []
  },
  {
   "cell_type": "code",
   "execution_count": 60,
   "metadata": {},
   "outputs": [],
   "source": [
    "surahs_list = []\n",
    "x=0\n",
    "for i in surah_rows:\n",
    "    x+=1\n",
    "    #print(x)\n",
    "    surah_dict = {} \n",
    "    single_surah_data = i.find_all('td')\n",
    "    #print(single_surah_data)\n",
    "    surah_dict['SurahNumber'] = single_surah_data[0].get_text().strip()\n",
    "    surah_dict['EnglishTitle'] = single_surah_data[1].get_text().strip()\n",
    "    surah_dict['ArabicTitle'] = single_surah_data[2].get_text()\n",
    "    #print(single_surah_data[2])\n",
    "    try:    \n",
    "        #text = single_surah_data[2].find(\"span\").get_text()\n",
    "        english = single_surah_data[2].find_all(\"span\")\n",
    "        #print(text.strip())\n",
    "        #print(english[0].get_text())\n",
    "        #print(english[-1].get_text())\n",
    "        surah_dict['ArabicTitle'] = english[0].get_text()\n",
    "        surah_dict['RomanTitle'] = english[-1].get_text()\n",
    "        \n",
    "    except:\n",
    "        text = re.sub('[a-zA-Z]+', '', single_surah_data[2].get_text())\n",
    "        english = re.findall('[a-zA-Z]+', single_surah_data[2].get_text())\n",
    "        #print(text.strip())\n",
    "        #print(english[0].strip())\n",
    "        surah_dict['ArabicTitle'] = text.strip()\n",
    "        surah_dict['RomanTitle'] = english[0].strip()\n",
    "    \n",
    "    #print(single_surah_data[2].get_text())\n",
    "    #break\n",
    "    surah_dict['NumberOfVerses'] = single_surah_data[4].get_text().split(' ')[0]\n",
    "    surah_dict['NumberOfRukus'] = single_surah_data[4].get_text().split(' ')[1].replace(\"(\",\"\").replace(\")\",\"\")\n",
    "    surah_dict['PlaceOfRevelation'] = single_surah_data[5].get_text()\n",
    "    surahs_list.append(surah_dict)\n",
    "    \n",
    "    \n",
    "df_surah_information = pd.DataFrame(surahs_list)"
   ]
  },
  {
   "cell_type": "code",
   "execution_count": 61,
   "metadata": {},
   "outputs": [
    {
     "data": {
      "text/html": [
       "<div>\n",
       "<style scoped>\n",
       "    .dataframe tbody tr th:only-of-type {\n",
       "        vertical-align: middle;\n",
       "    }\n",
       "\n",
       "    .dataframe tbody tr th {\n",
       "        vertical-align: top;\n",
       "    }\n",
       "\n",
       "    .dataframe thead th {\n",
       "        text-align: right;\n",
       "    }\n",
       "</style>\n",
       "<table border=\"1\" class=\"dataframe\">\n",
       "  <thead>\n",
       "    <tr style=\"text-align: right;\">\n",
       "      <th></th>\n",
       "      <th>SurahNumber</th>\n",
       "      <th>EnglishTitle</th>\n",
       "      <th>ArabicTitle</th>\n",
       "      <th>RomanTitle</th>\n",
       "      <th>NumberOfVerses</th>\n",
       "      <th>NumberOfRukus</th>\n",
       "      <th>PlaceOfRevelation</th>\n",
       "    </tr>\n",
       "  </thead>\n",
       "  <tbody>\n",
       "    <tr>\n",
       "      <th>0</th>\n",
       "      <td>1</td>\n",
       "      <td>Al-Fatihah</td>\n",
       "      <td>ٱلْفَاتِحَة</td>\n",
       "      <td>al-Ḥamd</td>\n",
       "      <td>7</td>\n",
       "      <td>1</td>\n",
       "      <td>Makkah</td>\n",
       "    </tr>\n",
       "    <tr>\n",
       "      <th>1</th>\n",
       "      <td>2</td>\n",
       "      <td>Al-Baqarah</td>\n",
       "      <td>ٱلْبَقَرَة</td>\n",
       "      <td>al-Baq̈arah</td>\n",
       "      <td>286</td>\n",
       "      <td>40</td>\n",
       "      <td>Madinah</td>\n",
       "    </tr>\n",
       "    <tr>\n",
       "      <th>2</th>\n",
       "      <td>3</td>\n",
       "      <td>Aali 'Imran</td>\n",
       "      <td>آلِ عِمْرَان</td>\n",
       "      <td>ʾĀli ʿImrān</td>\n",
       "      <td>200</td>\n",
       "      <td>20</td>\n",
       "      <td>Madinah</td>\n",
       "    </tr>\n",
       "    <tr>\n",
       "      <th>3</th>\n",
       "      <td>4</td>\n",
       "      <td>An-Nisa</td>\n",
       "      <td>ٱلنِّسَاء</td>\n",
       "      <td>an-Nisāʾ</td>\n",
       "      <td>176</td>\n",
       "      <td>24</td>\n",
       "      <td>Madinah</td>\n",
       "    </tr>\n",
       "    <tr>\n",
       "      <th>4</th>\n",
       "      <td>5</td>\n",
       "      <td>Al-Ma'idah</td>\n",
       "      <td>ٱلْمَائِدَة</td>\n",
       "      <td>al-Māʾidah</td>\n",
       "      <td>120</td>\n",
       "      <td>16</td>\n",
       "      <td>Madinah</td>\n",
       "    </tr>\n",
       "  </tbody>\n",
       "</table>\n",
       "</div>"
      ],
      "text/plain": [
       "  SurahNumber EnglishTitle   ArabicTitle   RomanTitle NumberOfVerses  \\\n",
       "0           1   Al-Fatihah   ٱلْفَاتِحَة      al-Ḥamd              7   \n",
       "1           2   Al-Baqarah    ٱلْبَقَرَة  al-Baq̈arah            286   \n",
       "2           3  Aali 'Imran  آلِ عِمْرَان  ʾĀli ʿImrān            200   \n",
       "3           4      An-Nisa     ٱلنِّسَاء     an-Nisāʾ            176   \n",
       "4           5   Al-Ma'idah   ٱلْمَائِدَة   al-Māʾidah            120   \n",
       "\n",
       "  NumberOfRukus PlaceOfRevelation  \n",
       "0             1            Makkah  \n",
       "1            40           Madinah  \n",
       "2            20           Madinah  \n",
       "3            24           Madinah  \n",
       "4            16           Madinah  "
      ]
     },
     "execution_count": 61,
     "metadata": {},
     "output_type": "execute_result"
    }
   ],
   "source": [
    "df_surah_information.head()"
   ]
  },
  {
   "cell_type": "code",
   "execution_count": 62,
   "metadata": {},
   "outputs": [],
   "source": [
    "df_surah_information.to_csv(\"./data/surah/surah_info.csv\", index=False)"
   ]
  },
  {
   "cell_type": "code",
   "execution_count": null,
   "metadata": {},
   "outputs": [],
   "source": []
  }
 ],
 "metadata": {
  "interpreter": {
   "hash": "e700657700ca3726e7d919db0cb1bdb00b1449743532d1443fbe37ca2c1ec67d"
  },
  "kernelspec": {
   "display_name": "Python 3 (ipykernel)",
   "language": "python",
   "name": "python3"
  },
  "language_info": {
   "codemirror_mode": {
    "name": "ipython",
    "version": 3
   },
   "file_extension": ".py",
   "mimetype": "text/x-python",
   "name": "python",
   "nbconvert_exporter": "python",
   "pygments_lexer": "ipython3",
   "version": "3.9.16"
  }
 },
 "nbformat": 4,
 "nbformat_minor": 2
}
